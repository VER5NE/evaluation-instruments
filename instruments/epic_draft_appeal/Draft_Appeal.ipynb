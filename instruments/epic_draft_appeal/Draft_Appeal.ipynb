{
 "cells": [
  {
   "cell_type": "code",
   "execution_count": null,
   "id": "edaee0f2",
   "metadata": {},
   "outputs": [],
   "source": [
    "from pathlib import Path\n",
    "import pandas as pd\n",
    "data_path = str(Path('data').resolve()) + \"/\"\n",
    "\n",
    "input_df = pd.DataFrame({\"guid\":['58e6e5e6-8b44-4fae-aec3-d85d287fdcd6']},\n",
    "                        index=['000'])\n",
    "input_df.index.name = \"myIx\"\n",
    "\n",
    "input_df.guid = data_path + input_df.guid"
   ]
  },
  {
   "cell_type": "code",
   "execution_count": null,
   "id": "f70fc82a",
   "metadata": {},
   "outputs": [],
   "source": [
    "from draft_appeal_prompt import to_prompt  # Fix the pattern of notebook to related content --->>> move toward config based resource lookup"
   ]
  },
  {
   "cell_type": "code",
   "execution_count": null,
   "id": "604d7a61",
   "metadata": {},
   "outputs": [],
   "source": [
    "from example_provider import completion\n",
    "import evaluation_instruments as ev\n",
    "\n",
    "ev.set_logging(10) # DEBUG\n",
    "evaluator = ev.Evaluation(\n",
    "    completion_fn = completion,\n",
    "    prep_fn= to_prompt,\n",
    "    log_enabled = True,\n",
    "    max_tokens = 10_000\n",
    ")"
   ]
  },
  {
   "cell_type": "code",
   "execution_count": null,
   "id": "4db685fe",
   "metadata": {},
   "outputs": [],
   "source": [
    "output = evaluator.run_dataset(input_df, model='gpt-4o-mini')\n",
    "output"
   ]
  },
  {
   "cell_type": "code",
   "execution_count": null,
   "id": "7b248b1e-9ef8-4add-b057-d06de4f07f39",
   "metadata": {},
   "outputs": [],
   "source": []
  }
 ],
 "metadata": {
  "kernelspec": {
   "display_name": "Python 3 (ipykernel)",
   "language": "python",
   "name": "python3"
  },
  "language_info": {
   "codemirror_mode": {
    "name": "ipython",
    "version": 3
   },
   "file_extension": ".py",
   "mimetype": "text/x-python",
   "name": "python",
   "nbconvert_exporter": "python",
   "pygments_lexer": "ipython3",
   "version": "3.12.7"
  }
 },
 "nbformat": 4,
 "nbformat_minor": 5
}
