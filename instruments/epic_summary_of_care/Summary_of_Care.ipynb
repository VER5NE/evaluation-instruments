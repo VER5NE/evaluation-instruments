{
 "cells": [
  {
   "cell_type": "code",
   "execution_count": null,
   "id": "2a344deb-6a0b-47bf-bcac-a5998aa50b3c",
   "metadata": {},
   "outputs": [],
   "source": [
    "import pandas as pd\n",
    "from pathlib import Path\n",
    "data_path = str(Path('data').resolve()) + \"/\"\n",
    "\n",
    "input_df = pd.DataFrame({\"guid\":['f4f9d3ee-e366-4b48-80b6-d297a1ef34ab']},\n",
    "                        index=['000'])\n",
    "input_df.index.name = \"myIx\"\n",
    "input_df.guid = data_path + input_df.guid"
   ]
  },
  {
   "cell_type": "code",
   "execution_count": null,
   "id": "35432dfb-224e-4efc-9898-885b345723ea",
   "metadata": {},
   "outputs": [],
   "source": [
    "from example_provider import completion"
   ]
  },
  {
   "cell_type": "code",
   "execution_count": null,
   "id": "5210692b-16ae-49d4-b78c-ba16a4f469bf",
   "metadata": {},
   "outputs": [],
   "source": [
    "from summary_of_care_prompt import to_prompt\n",
    "import evaluation_instruments as ev\n",
    "\n",
    "ev.set_logging(10) # DEBUG\n",
    "evaluator = ev.Evaluation(\n",
    "    completion_fn = completion,\n",
    "    prep_fn= to_prompt,\n",
    "    log_enabled = True,\n",
    "    max_tokens = 10_000\n",
    ")"
   ]
  },
  {
   "cell_type": "code",
   "execution_count": null,
   "id": "a538b126-e1e1-4eba-a017-d2f409658189",
   "metadata": {},
   "outputs": [],
   "source": [
    "output = evaluator.run_dataset(input_df, model='gpt-4o-mini')"
   ]
  },
  {
   "cell_type": "code",
   "execution_count": null,
   "id": "4f3dc79c-bee7-44f5-8c9b-2fc766581016",
   "metadata": {},
   "outputs": [],
   "source": [
    "grades = ev.frame_from_evals(output[0])\n",
    "grades.xs('score', axis=1, level=1)"
   ]
  },
  {
   "cell_type": "code",
   "execution_count": null,
   "id": "e419c937-1ca7-4d68-a01f-f8f109fc8400",
   "metadata": {},
   "outputs": [],
   "source": [
    "grades.xs('evidence', axis=1, level=1).T"
   ]
  },
  {
   "cell_type": "code",
   "execution_count": null,
   "id": "f0404d22-2768-4af6-a2be-a8efb77183c1",
   "metadata": {},
   "outputs": [],
   "source": []
  }
 ],
 "metadata": {
  "kernelspec": {
   "display_name": "Python 3 (ipykernel)",
   "language": "python",
   "name": "python3"
  },
  "language_info": {
   "codemirror_mode": {
    "name": "ipython",
    "version": 3
   },
   "file_extension": ".py",
   "mimetype": "text/x-python",
   "name": "python",
   "nbconvert_exporter": "python",
   "pygments_lexer": "ipython3",
   "version": "3.12.7"
  }
 },
 "nbformat": 4,
 "nbformat_minor": 5
}
